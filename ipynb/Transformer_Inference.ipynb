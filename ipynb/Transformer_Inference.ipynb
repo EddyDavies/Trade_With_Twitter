{
 "nbformat": 4,
 "nbformat_minor": 0,
 "metadata": {
  "colab": {
   "name": "Transformer Inference",
   "provenance": [],
   "collapsed_sections": [],
   "machine_shape": "hm",
   "include_colab_link": true
  },
  "kernelspec": {
   "name": "python3",
   "language": "python",
   "display_name": "Python 3 (ipykernel)"
  },
  "accelerator": "GPU"
 },
 "cells": [
  {
   "cell_type": "markdown",
   "metadata": {
    "id": "view-in-github",
    "colab_type": "text"
   },
   "source": [
    "<a href=\"https://colab.research.google.com/github/EddyDavies/Trade_With_Twitter/blob/main/ipynb/Transformer_Inference.ipynb\" target=\"_parent\"><img src=\"https://colab.research.google.com/assets/colab-badge.svg\" alt=\"Open In Colab\"/></a>"
   ]
  },
  {
   "cell_type": "markdown",
   "metadata": {
    "id": "mglHXkp5lJJT"
   },
   "source": [
    "Check GPU"
   ]
  },
  {
   "cell_type": "code",
   "metadata": {
    "colab": {
     "base_uri": "https://localhost:8080/"
    },
    "id": "cOuq2MqzlRPG",
    "outputId": "d85c0494-d5e7-4dff-f2bd-2cc58f6fb8e7"
   },
   "source": [
    "gpu_info = !nvidia-smi\n",
    "gpu_info = '\\n'.join(gpu_info)\n",
    "if gpu_info.find('failed') >= 0:\n",
    "  print('Not connected to a GPU')\n",
    "else:\n",
    "  print(gpu_info)"
   ],
   "execution_count": 2,
   "outputs": [
    {
     "name": "stdout",
     "output_type": "stream",
     "text": [
      "zsh:1: command not found: nvidia-smi\n"
     ]
    }
   ]
  },
  {
   "cell_type": "markdown",
   "metadata": {
    "id": "ssZFeZ-wlbM9"
   },
   "source": [
    "Check TPU"
   ]
  },
  {
   "cell_type": "code",
   "metadata": {
    "id": "ybKB8RWgld3-"
   },
   "source": [],
   "execution_count": 2,
   "outputs": []
  },
  {
   "cell_type": "markdown",
   "metadata": {
    "id": "kf-u-YRelOxj"
   },
   "source": [
    "Check Memory"
   ]
  },
  {
   "cell_type": "code",
   "metadata": {
    "colab": {
     "base_uri": "https://localhost:8080/"
    },
    "id": "n1_tNatVlHk1",
    "outputId": "388d3c50-533b-4b20-b521-8e5476fdc045"
   },
   "source": [
    "from psutil import virtual_memory\n",
    "ram_gb = virtual_memory().total / 1e9\n",
    "print('Your runtime has {:.1f} gigabytes of available RAM\\n'.format(ram_gb))\n",
    "\n",
    "if ram_gb < 20:\n",
    "  print('Not using a high-RAM runtime')\n",
    "else:\n",
    "  print('You are using a high-RAM runtime!')"
   ],
   "execution_count": 3,
   "outputs": [
    {
     "name": "stdout",
     "output_type": "stream",
     "text": [
      "Your runtime has 17.2 gigabytes of available RAM\n",
      "\n",
      "Not using a high-RAM runtime\n"
     ]
    }
   ]
  },
  {
   "cell_type": "code",
   "metadata": {
    "id": "-JQMNNgb3ea4",
    "outputId": "db42e253-4290-4bb1-ff2b-75e9178f16bf",
    "colab": {
     "base_uri": "https://localhost:8080/"
    }
   },
   "source": [
    "# !git clone https://github.com/EddyDavies/Trade_With_Twitter.git"
   ],
   "execution_count": 4,
   "outputs": []
  },
  {
   "cell_type": "code",
   "metadata": {
    "colab": {
     "base_uri": "https://localhost:8080/"
    },
    "id": "mpKovQEbHkgm",
    "outputId": "d008cdbc-bce8-4e9c-93ff-8064cd5199c2"
   },
   "source": [
    "!ls .//"
   ],
   "execution_count": 5,
   "outputs": [
    {
     "name": "stdout",
     "output_type": "stream",
     "text": [
      "Transformer_Inference.ipynb     text_extraction_with_bert.ipynb\r\n"
     ]
    }
   ]
  },
  {
   "cell_type": "code",
   "metadata": {
    "colab": {
     "base_uri": "https://localhost:8080/"
    },
    "id": "2coR1uRMHkbc",
    "outputId": "dba9d695-57b3-43e4-8fd1-16533487667b"
   },
   "source": [
    "%cd Trade_With_Twitter/src\n",
    "!ls"
   ],
   "execution_count": 6,
   "outputs": [
    {
     "name": "stdout",
     "output_type": "stream",
     "text": [
      "[Errno 2] No such file or directory: 'Trade_With_Twitter/src'\n",
      "/Users/edwarddavies/Git/Trade_with_Twitter/ipynb\n",
      "Transformer_Inference.ipynb     text_extraction_with_bert.ipynb\r\n"
     ]
    }
   ]
  },
  {
   "cell_type": "code",
   "metadata": {
    "colab": {
     "base_uri": "https://localhost:8080/"
    },
    "id": "qpL2eUlTTzPn",
    "outputId": "1b3ad0d2-acec-47a6-a4ff-dd065c6cf781"
   },
   "source": [
    "# from google.colab import drive\n",
    "#\n",
    "# drive.mount('/content/drive')"
   ],
   "execution_count": 7,
   "outputs": []
  },
  {
   "cell_type": "code",
   "metadata": {
    "id": "gvQ9fTwdr2QH",
    "colab": {
     "base_uri": "https://localhost:8080/"
    },
    "outputId": "9ddd6063-5a54-4429-b158-39abc095abb7"
   },
   "source": [
    "!pip install -r ../requirements.txt"
   ],
   "execution_count": 8,
   "outputs": [
    {
     "name": "stdout",
     "output_type": "stream",
     "text": [
      "Requirement already satisfied: pandas in /Users/edwarddavies/Git/Trade_with_Twitter/venv/lib/python3.8/site-packages (from -r ../requirements.txt (line 6)) (1.3.1)\r\n",
      "Requirement already satisfied: transformers[torch] in /Users/edwarddavies/Git/Trade_with_Twitter/venv/lib/python3.8/site-packages (from -r ../requirements.txt (line 7)) (4.6.1)\r\n",
      "Requirement already satisfied: tqdm in /Users/edwarddavies/Git/Trade_with_Twitter/venv/lib/python3.8/site-packages (from -r ../requirements.txt (line 19)) (4.62.0)\r\n",
      "Requirement already satisfied: numpy>=1.17.3 in /Users/edwarddavies/Git/Trade_with_Twitter/venv/lib/python3.8/site-packages (from pandas->-r ../requirements.txt (line 6)) (1.19.5)\r\n",
      "Requirement already satisfied: python-dateutil>=2.7.3 in /Users/edwarddavies/Git/Trade_with_Twitter/venv/lib/python3.8/site-packages (from pandas->-r ../requirements.txt (line 6)) (2.8.2)\r\n",
      "Requirement already satisfied: pytz>=2017.3 in /Users/edwarddavies/Git/Trade_with_Twitter/venv/lib/python3.8/site-packages (from pandas->-r ../requirements.txt (line 6)) (2021.1)\r\n",
      "Requirement already satisfied: filelock in /Users/edwarddavies/Git/Trade_with_Twitter/venv/lib/python3.8/site-packages (from transformers[torch]->-r ../requirements.txt (line 7)) (3.0.12)\r\n",
      "Requirement already satisfied: regex!=2019.12.17 in /Users/edwarddavies/Git/Trade_with_Twitter/venv/lib/python3.8/site-packages (from transformers[torch]->-r ../requirements.txt (line 7)) (2021.8.3)\r\n",
      "Requirement already satisfied: huggingface-hub==0.0.8 in /Users/edwarddavies/Git/Trade_with_Twitter/venv/lib/python3.8/site-packages (from transformers[torch]->-r ../requirements.txt (line 7)) (0.0.8)\r\n",
      "Requirement already satisfied: requests in /Users/edwarddavies/Git/Trade_with_Twitter/venv/lib/python3.8/site-packages (from transformers[torch]->-r ../requirements.txt (line 7)) (2.26.0)\r\n",
      "Requirement already satisfied: tokenizers<0.11,>=0.10.1 in /Users/edwarddavies/Git/Trade_with_Twitter/venv/lib/python3.8/site-packages (from transformers[torch]->-r ../requirements.txt (line 7)) (0.10.3)\r\n",
      "Requirement already satisfied: packaging in /Users/edwarddavies/Git/Trade_with_Twitter/venv/lib/python3.8/site-packages (from transformers[torch]->-r ../requirements.txt (line 7)) (21.0)\r\n",
      "Requirement already satisfied: sacremoses in /Users/edwarddavies/Git/Trade_with_Twitter/venv/lib/python3.8/site-packages (from transformers[torch]->-r ../requirements.txt (line 7)) (0.0.45)\r\n",
      "Requirement already satisfied: torch>=1.0 in /Users/edwarddavies/Git/Trade_with_Twitter/venv/lib/python3.8/site-packages (from transformers[torch]->-r ../requirements.txt (line 7)) (1.8.0)\r\n",
      "Requirement already satisfied: six>=1.5 in /Users/edwarddavies/Git/Trade_with_Twitter/venv/lib/python3.8/site-packages (from python-dateutil>=2.7.3->pandas->-r ../requirements.txt (line 6)) (1.15.0)\r\n",
      "Requirement already satisfied: typing-extensions in /Users/edwarddavies/Git/Trade_with_Twitter/venv/lib/python3.8/site-packages (from torch>=1.0->transformers[torch]->-r ../requirements.txt (line 7)) (3.7.4.3)\r\n",
      "Requirement already satisfied: pyparsing>=2.0.2 in /Users/edwarddavies/Git/Trade_with_Twitter/venv/lib/python3.8/site-packages (from packaging->transformers[torch]->-r ../requirements.txt (line 7)) (2.4.7)\r\n",
      "Requirement already satisfied: certifi>=2017.4.17 in /Users/edwarddavies/Git/Trade_with_Twitter/venv/lib/python3.8/site-packages (from requests->transformers[torch]->-r ../requirements.txt (line 7)) (2021.5.30)\r\n",
      "Requirement already satisfied: idna<4,>=2.5 in /Users/edwarddavies/Git/Trade_with_Twitter/venv/lib/python3.8/site-packages (from requests->transformers[torch]->-r ../requirements.txt (line 7)) (3.2)\r\n",
      "Requirement already satisfied: urllib3<1.27,>=1.21.1 in /Users/edwarddavies/Git/Trade_with_Twitter/venv/lib/python3.8/site-packages (from requests->transformers[torch]->-r ../requirements.txt (line 7)) (1.26.6)\r\n",
      "Requirement already satisfied: charset-normalizer~=2.0.0 in /Users/edwarddavies/Git/Trade_with_Twitter/venv/lib/python3.8/site-packages (from requests->transformers[torch]->-r ../requirements.txt (line 7)) (2.0.4)\r\n",
      "Requirement already satisfied: joblib in /Users/edwarddavies/Git/Trade_with_Twitter/venv/lib/python3.8/site-packages (from sacremoses->transformers[torch]->-r ../requirements.txt (line 7)) (1.0.1)\r\n",
      "Requirement already satisfied: click in /Users/edwarddavies/Git/Trade_with_Twitter/venv/lib/python3.8/site-packages (from sacremoses->transformers[torch]->-r ../requirements.txt (line 7)) (7.1.2)\r\n",
      "\u001B[33mWARNING: You are using pip version 21.2.2; however, version 21.2.4 is available.\r\n",
      "You should consider upgrading via the '/Users/edwarddavies/Git/Trade_with_Twitter/venv/bin/python -m pip install --upgrade pip' command.\u001B[0m\r\n"
     ]
    }
   ]
  },
  {
   "cell_type": "code",
   "metadata": {
    "id": "W5ii2NiXAUZF"
   },
   "source": [
    "import os\n",
    "import pandas as pd\n",
    "from tqdm import tqdm\n",
    "\n",
    "from utils import get_date_array, get_month_array\n",
    "from sentiment.inference import to_dict_of_lists, get_paths\n",
    "\n",
    "source, results_folder = get_paths()\n",
    "# source, results_folder = get_paths(data_folder='../../drive/MyDrive/ColabData')"
   ],
   "execution_count": 9,
   "outputs": []
  },
  {
   "cell_type": "code",
   "metadata": {
    "id": "eD1CfxrbBfxf"
   },
   "source": [
    "dates_range = (\"2017-01-01\", \"2021-06-20\")\n",
    "months_range = [\"Jan 17\", \"Jun 21\"]\n",
    "\n",
    "months = get_month_array(months_range)\n",
    "dates = get_date_array(dates_range)"
   ],
   "execution_count": 10,
   "outputs": []
  },
  {
   "cell_type": "code",
   "metadata": {
    "colab": {
     "base_uri": "https://localhost:8080/"
    },
    "id": "HAUgIFIPpoA5",
    "outputId": "700cbc31-e371-4c2f-d5eb-f0340395624e"
   },
   "source": [
    "from transformers import pipeline\n",
    "\n",
    "sentiment_analysis = pipeline(\"sentiment-analysis\")"
   ],
   "execution_count": 11,
   "outputs": []
  },
  {
   "cell_type": "code",
   "metadata": {
    "id": "4CPgRTRM_IKn",
    "colab": {
     "base_uri": "https://localhost:8080/",
     "height": 535
    },
    "outputId": "64041ab5-8302-49aa-fe8c-fccf5fd92dbd"
   },
   "source": [
    "from sentiment.inference import get_tweets, get_sentiments, save_sentiments, check_last_day\n",
    "\n",
    "for date in dates:\n",
    "    ids, tweets = get_tweets(date, source)\n",
    "\n",
    "    percentage_per_chunk = 10\n",
    "    save_every = 2000\n",
    "    results = get_sentiments(date, tweets, sentiment_analysis, \n",
    "        save_every=save_every, percentage_per_chunk=percentage_per_chunk)\n",
    "\n",
    "    outputs = to_dict_of_lists(results)\n",
    "    outputs[\"ids\"] = ids\n",
    "    save_sentiments(outputs, date)\n",
    "\n",
    "    check_last_day(results, results_folder, date)"
   ],
   "execution_count": 17,
   "outputs": [
    {
     "ename": "KeyboardInterrupt",
     "evalue": "",
     "output_type": "error",
     "traceback": [
      "\u001B[0;31m---------------------------------------------------------------------------\u001B[0m",
      "\u001B[0;31mKeyboardInterrupt\u001B[0m                         Traceback (most recent call last)",
      "\u001B[0;32m/var/folders/5r/p050t_sd4l130ytlj_x4wxyh0000gn/T/ipykernel_57500/2145071400.py\u001B[0m in \u001B[0;36m<module>\u001B[0;34m\u001B[0m\n\u001B[1;32m      7\u001B[0m     \u001B[0mpercentage_per_chunk\u001B[0m \u001B[0;34m=\u001B[0m \u001B[0;36m10\u001B[0m\u001B[0;34m\u001B[0m\u001B[0;34m\u001B[0m\u001B[0m\n\u001B[1;32m      8\u001B[0m     \u001B[0msave_every\u001B[0m \u001B[0;34m=\u001B[0m \u001B[0;36m2000\u001B[0m\u001B[0;34m\u001B[0m\u001B[0;34m\u001B[0m\u001B[0m\n\u001B[0;32m----> 9\u001B[0;31m     results = get_sentiments(date, tweets, sentiment_analysis, \n\u001B[0m\u001B[1;32m     10\u001B[0m         save_every=save_every, percentage_per_chunk=percentage_per_chunk)\n\u001B[1;32m     11\u001B[0m \u001B[0;34m\u001B[0m\u001B[0m\n",
      "\u001B[0;32m~/Git/Trade_with_Twitter/src/sentiment/inference.py\u001B[0m in \u001B[0;36mget_sentiments\u001B[0;34m(date, tweets, sentiment_analyser, save_every, percentage_per_chunk, chunk)\u001B[0m\n\u001B[1;32m     41\u001B[0m         \u001B[0msentiment_analyser\u001B[0m \u001B[0;34m=\u001B[0m \u001B[0mpipeline\u001B[0m\u001B[0;34m(\u001B[0m\u001B[0;34m\"sentiment-analysis\"\u001B[0m\u001B[0;34m)\u001B[0m\u001B[0;34m\u001B[0m\u001B[0;34m\u001B[0m\u001B[0m\n\u001B[1;32m     42\u001B[0m \u001B[0;34m\u001B[0m\u001B[0m\n\u001B[0;32m---> 43\u001B[0;31m     \u001B[0mscaled_tweets\u001B[0m \u001B[0;34m=\u001B[0m \u001B[0mscale_tweet_list\u001B[0m\u001B[0;34m(\u001B[0m\u001B[0mpercentage_per_chunk\u001B[0m\u001B[0;34m,\u001B[0m \u001B[0msave_every\u001B[0m\u001B[0;34m,\u001B[0m \u001B[0mtweets\u001B[0m\u001B[0;34m)\u001B[0m\u001B[0;34m\u001B[0m\u001B[0;34m\u001B[0m\u001B[0m\n\u001B[0m\u001B[1;32m     44\u001B[0m     \u001B[0mresults\u001B[0m \u001B[0;34m=\u001B[0m \u001B[0;34m[\u001B[0m\u001B[0;34m]\u001B[0m\u001B[0;34m\u001B[0m\u001B[0;34m\u001B[0m\u001B[0m\n\u001B[1;32m     45\u001B[0m     \u001B[0mlength\u001B[0m \u001B[0;34m=\u001B[0m \u001B[0mlen\u001B[0m\u001B[0;34m(\u001B[0m\u001B[0mtweets\u001B[0m\u001B[0;34m)\u001B[0m\u001B[0;34m\u001B[0m\u001B[0;34m\u001B[0m\u001B[0m\n",
      "\u001B[0;32m~/Git/Trade_with_Twitter/src/sentiment/inference.py\u001B[0m in \u001B[0;36mscale_tweet_list\u001B[0;34m(percentage_per_chunk, save_every, tweets)\u001B[0m\n\u001B[1;32m     63\u001B[0m     \u001B[0mlength_of_tweets\u001B[0m \u001B[0;34m=\u001B[0m \u001B[0mlen\u001B[0m\u001B[0;34m(\u001B[0m\u001B[0mtweets\u001B[0m\u001B[0;34m)\u001B[0m\u001B[0;34m\u001B[0m\u001B[0;34m\u001B[0m\u001B[0m\n\u001B[1;32m     64\u001B[0m     \u001B[0mpercent_of_length\u001B[0m \u001B[0;34m=\u001B[0m \u001B[0mlength_of_tweets\u001B[0m \u001B[0;34m/\u001B[0m \u001B[0mpercentage_per_chunk\u001B[0m\u001B[0;34m\u001B[0m\u001B[0;34m\u001B[0m\u001B[0m\n\u001B[0;32m---> 65\u001B[0;31m     \u001B[0mlast_tweet\u001B[0m \u001B[0;34m=\u001B[0m \u001B[0mint\u001B[0m\u001B[0;34m(\u001B[0m\u001B[0mpercent_of_length\u001B[0m \u001B[0;34m-\u001B[0m \u001B[0;34m(\u001B[0m\u001B[0mpercent_of_length\u001B[0m \u001B[0;34m%\u001B[0m \u001B[0msave_every\u001B[0m\u001B[0;34m)\u001B[0m\u001B[0;34m)\u001B[0m\u001B[0;34m\u001B[0m\u001B[0;34m\u001B[0m\u001B[0m\n\u001B[0m\u001B[1;32m     66\u001B[0m     \u001B[0mscaled_tweets\u001B[0m \u001B[0;34m=\u001B[0m \u001B[0mtweets\u001B[0m\u001B[0;34m[\u001B[0m\u001B[0;34m:\u001B[0m\u001B[0mlast_tweet\u001B[0m\u001B[0;34m]\u001B[0m\u001B[0;34m\u001B[0m\u001B[0;34m\u001B[0m\u001B[0m\n\u001B[1;32m     67\u001B[0m     \u001B[0;32mreturn\u001B[0m \u001B[0mscaled_tweets\u001B[0m\u001B[0;34m\u001B[0m\u001B[0;34m\u001B[0m\u001B[0m\n",
      "\u001B[0;32m~/Git/Trade_with_Twitter/src/sentiment/inference.py\u001B[0m in \u001B[0;36mscale_tweet_list\u001B[0;34m(percentage_per_chunk, save_every, tweets)\u001B[0m\n\u001B[1;32m     63\u001B[0m     \u001B[0mlength_of_tweets\u001B[0m \u001B[0;34m=\u001B[0m \u001B[0mlen\u001B[0m\u001B[0;34m(\u001B[0m\u001B[0mtweets\u001B[0m\u001B[0;34m)\u001B[0m\u001B[0;34m\u001B[0m\u001B[0;34m\u001B[0m\u001B[0m\n\u001B[1;32m     64\u001B[0m     \u001B[0mpercent_of_length\u001B[0m \u001B[0;34m=\u001B[0m \u001B[0mlength_of_tweets\u001B[0m \u001B[0;34m/\u001B[0m \u001B[0mpercentage_per_chunk\u001B[0m\u001B[0;34m\u001B[0m\u001B[0;34m\u001B[0m\u001B[0m\n\u001B[0;32m---> 65\u001B[0;31m     \u001B[0mlast_tweet\u001B[0m \u001B[0;34m=\u001B[0m \u001B[0mint\u001B[0m\u001B[0;34m(\u001B[0m\u001B[0mpercent_of_length\u001B[0m \u001B[0;34m-\u001B[0m \u001B[0;34m(\u001B[0m\u001B[0mpercent_of_length\u001B[0m \u001B[0;34m%\u001B[0m \u001B[0msave_every\u001B[0m\u001B[0;34m)\u001B[0m\u001B[0;34m)\u001B[0m\u001B[0;34m\u001B[0m\u001B[0;34m\u001B[0m\u001B[0m\n\u001B[0m\u001B[1;32m     66\u001B[0m     \u001B[0mscaled_tweets\u001B[0m \u001B[0;34m=\u001B[0m \u001B[0mtweets\u001B[0m\u001B[0;34m[\u001B[0m\u001B[0;34m:\u001B[0m\u001B[0mlast_tweet\u001B[0m\u001B[0;34m]\u001B[0m\u001B[0;34m\u001B[0m\u001B[0;34m\u001B[0m\u001B[0m\n\u001B[1;32m     67\u001B[0m     \u001B[0;32mreturn\u001B[0m \u001B[0mscaled_tweets\u001B[0m\u001B[0;34m\u001B[0m\u001B[0;34m\u001B[0m\u001B[0m\n",
      "\u001B[0;32m_pydevd_bundle/pydevd_cython_darwin_38_64.pyx\u001B[0m in \u001B[0;36m_pydevd_bundle.pydevd_cython_darwin_38_64.SafeCallWrapper.__call__\u001B[0;34m()\u001B[0m\n",
      "\u001B[0;32m_pydevd_bundle/pydevd_cython_darwin_38_64.pyx\u001B[0m in \u001B[0;36m_pydevd_bundle.pydevd_cython_darwin_38_64.PyDBFrame.trace_dispatch\u001B[0;34m()\u001B[0m\n",
      "\u001B[0;32m_pydevd_bundle/pydevd_cython_darwin_38_64.pyx\u001B[0m in \u001B[0;36m_pydevd_bundle.pydevd_cython_darwin_38_64.PyDBFrame.trace_dispatch\u001B[0;34m()\u001B[0m\n",
      "\u001B[0;32m_pydevd_bundle/pydevd_cython_darwin_38_64.pyx\u001B[0m in \u001B[0;36m_pydevd_bundle.pydevd_cython_darwin_38_64.PyDBFrame.trace_dispatch\u001B[0;34m()\u001B[0m\n",
      "\u001B[0;32m_pydevd_bundle/pydevd_cython_darwin_38_64.pyx\u001B[0m in \u001B[0;36m_pydevd_bundle.pydevd_cython_darwin_38_64.PyDBFrame.do_wait_suspend\u001B[0;34m()\u001B[0m\n",
      "\u001B[0;32m/Applications/PyCharm.app/Contents/plugins/python/helpers/pydev/pydevd.py\u001B[0m in \u001B[0;36mdo_wait_suspend\u001B[0;34m(self, thread, frame, event, arg, send_suspend_message, is_unhandled_exception)\u001B[0m\n\u001B[1;32m   1145\u001B[0m \u001B[0;34m\u001B[0m\u001B[0m\n\u001B[1;32m   1146\u001B[0m         \u001B[0;32mwith\u001B[0m \u001B[0mself\u001B[0m\u001B[0;34m.\u001B[0m\u001B[0m_threads_suspended_single_notification\u001B[0m\u001B[0;34m.\u001B[0m\u001B[0mnotify_thread_suspended\u001B[0m\u001B[0;34m(\u001B[0m\u001B[0mthread_id\u001B[0m\u001B[0;34m,\u001B[0m \u001B[0mstop_reason\u001B[0m\u001B[0;34m)\u001B[0m\u001B[0;34m:\u001B[0m\u001B[0;34m\u001B[0m\u001B[0;34m\u001B[0m\u001B[0m\n\u001B[0;32m-> 1147\u001B[0;31m             \u001B[0mself\u001B[0m\u001B[0;34m.\u001B[0m\u001B[0m_do_wait_suspend\u001B[0m\u001B[0;34m(\u001B[0m\u001B[0mthread\u001B[0m\u001B[0;34m,\u001B[0m \u001B[0mframe\u001B[0m\u001B[0;34m,\u001B[0m \u001B[0mevent\u001B[0m\u001B[0;34m,\u001B[0m \u001B[0marg\u001B[0m\u001B[0;34m,\u001B[0m \u001B[0msuspend_type\u001B[0m\u001B[0;34m,\u001B[0m \u001B[0mfrom_this_thread\u001B[0m\u001B[0;34m)\u001B[0m\u001B[0;34m\u001B[0m\u001B[0;34m\u001B[0m\u001B[0m\n\u001B[0m\u001B[1;32m   1148\u001B[0m \u001B[0;34m\u001B[0m\u001B[0m\n\u001B[1;32m   1149\u001B[0m     \u001B[0;32mdef\u001B[0m \u001B[0m_do_wait_suspend\u001B[0m\u001B[0;34m(\u001B[0m\u001B[0mself\u001B[0m\u001B[0;34m,\u001B[0m \u001B[0mthread\u001B[0m\u001B[0;34m,\u001B[0m \u001B[0mframe\u001B[0m\u001B[0;34m,\u001B[0m \u001B[0mevent\u001B[0m\u001B[0;34m,\u001B[0m \u001B[0marg\u001B[0m\u001B[0;34m,\u001B[0m \u001B[0msuspend_type\u001B[0m\u001B[0;34m,\u001B[0m \u001B[0mfrom_this_thread\u001B[0m\u001B[0;34m)\u001B[0m\u001B[0;34m:\u001B[0m\u001B[0;34m\u001B[0m\u001B[0;34m\u001B[0m\u001B[0m\n",
      "\u001B[0;32m/Applications/PyCharm.app/Contents/plugins/python/helpers/pydev/pydevd.py\u001B[0m in \u001B[0;36m_do_wait_suspend\u001B[0;34m(self, thread, frame, event, arg, suspend_type, from_this_thread)\u001B[0m\n\u001B[1;32m   1160\u001B[0m \u001B[0;34m\u001B[0m\u001B[0m\n\u001B[1;32m   1161\u001B[0m                 \u001B[0mself\u001B[0m\u001B[0;34m.\u001B[0m\u001B[0mprocess_internal_commands\u001B[0m\u001B[0;34m(\u001B[0m\u001B[0;34m)\u001B[0m\u001B[0;34m\u001B[0m\u001B[0;34m\u001B[0m\u001B[0m\n\u001B[0;32m-> 1162\u001B[0;31m                 \u001B[0mtime\u001B[0m\u001B[0;34m.\u001B[0m\u001B[0msleep\u001B[0m\u001B[0;34m(\u001B[0m\u001B[0;36m0.01\u001B[0m\u001B[0;34m)\u001B[0m\u001B[0;34m\u001B[0m\u001B[0;34m\u001B[0m\u001B[0m\n\u001B[0m\u001B[1;32m   1163\u001B[0m \u001B[0;34m\u001B[0m\u001B[0m\n\u001B[1;32m   1164\u001B[0m         \u001B[0mself\u001B[0m\u001B[0;34m.\u001B[0m\u001B[0mcancel_async_evaluation\u001B[0m\u001B[0;34m(\u001B[0m\u001B[0mget_current_thread_id\u001B[0m\u001B[0;34m(\u001B[0m\u001B[0mthread\u001B[0m\u001B[0;34m)\u001B[0m\u001B[0;34m,\u001B[0m \u001B[0mstr\u001B[0m\u001B[0;34m(\u001B[0m\u001B[0mid\u001B[0m\u001B[0;34m(\u001B[0m\u001B[0mframe\u001B[0m\u001B[0;34m)\u001B[0m\u001B[0;34m)\u001B[0m\u001B[0;34m)\u001B[0m\u001B[0;34m\u001B[0m\u001B[0;34m\u001B[0m\u001B[0m\n",
      "\u001B[0;31mKeyboardInterrupt\u001B[0m: "
     ]
    }
   ]
  },
  {
   "cell_type": "code",
   "metadata": {
    "id": "Bw-Y07gDFAdL"
   },
   "source": [
    "!ls ../"
   ],
   "execution_count": null,
   "outputs": []
  },
  {
   "cell_type": "code",
   "metadata": {
    "id": "2xu48n3pFTVE"
   },
   "source": [
    "# !rm -r ../data/bitcoin_scores"
   ],
   "execution_count": null,
   "outputs": []
  },
  {
   "cell_type": "code",
   "metadata": {
    "pycharm": {
     "name": "#%%\n"
    },
    "id": "eTaM3NyDd0_V",
    "outputId": "5772069c-9aed-4c00-e42e-5bdd9302ea47",
    "colab": {
     "base_uri": "https://localhost:8080/"
    }
   },
   "source": [
    "print(results_folder)"
   ],
   "execution_count": null,
   "outputs": []
  },
  {
   "cell_type": "code",
   "metadata": {
    "id": "6z47FRon4Vml"
   },
   "source": [
    "!git pull"
   ],
   "execution_count": null,
   "outputs": []
  }
 ]
}